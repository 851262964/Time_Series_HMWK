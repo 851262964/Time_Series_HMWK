{
 "cells": [
  {
   "cell_type": "code",
   "execution_count": 1,
   "id": "e20740c2-23ee-4935-b294-44008458c596",
   "metadata": {},
   "outputs": [],
   "source": [
    "#Background\n",
    "\n",
    "#The financial departments of large companies often have to make foreign currency transactions when doing international business, \n",
    "#while hedge funds are also interested in anything that will provide an edge in predicting currency movements. Hence, both are always eager to gain a better understanding of the future direction and risk of various currencies.\n",
    "\n",
    "#In this assignment, you will test the many time series tools that you have learned in order to predict future movements in the value \n",
    "#of the Canadian dollar versus the Japanese yen. You will gain proficiency in the following tasks:\n",
    "\n",
    "##Time series forecasting##\n",
    "\n",
    "##Linear regression modelling##\n",
    "\n"
   ]
  },
  {
   "cell_type": "code",
   "execution_count": 2,
   "id": "833b1e2c-3c64-458e-89a1-4e32b3c7acfd",
   "metadata": {},
   "outputs": [],
   "source": [
    "###Files\n",
    "\n",
    "##Time-Series Starter Notebook\n",
    "\n",
    "##Linear Regression Starter Notebook\n",
    "\n",
    "##CAD/JPY Data CSV File"
   ]
  },
  {
   "cell_type": "code",
   "execution_count": 3,
   "id": "13c8d307-eca3-4487-abb0-c3b99d783686",
   "metadata": {},
   "outputs": [],
   "source": [
    "#Instructions"
   ]
  },
  {
   "cell_type": "code",
   "execution_count": 4,
   "id": "db6e1838-62e5-4eee-956f-364fd4754f74",
   "metadata": {},
   "outputs": [],
   "source": [
    "#Time-Series Forecasting\n",
    "\n",
    "#In this notebook, you will load historical CAD-JPY exchange rate data and apply time series analysis \n",
    "#and modelling to determine if there is any predictable behaviour.\n",
    "#Follow the steps outlined in the time series starter notebook to complete the following:"
   ]
  },
  {
   "cell_type": "code",
   "execution_count": 5,
   "id": "e5a96e07-bdbc-4a87-8c3b-b4414c1e1f77",
   "metadata": {},
   "outputs": [],
   "source": [
    "#Imported the necessary Libraries\n",
    "\n",
    "import numpy as np\n",
    "import pandas as pd\n",
    "from pathlib import Path\n",
    "%matplotlib inline\n",
    "import plotly.express as px\n",
    "import matplotlib.pyplot as plt\n",
    "\n",
    "import warnings\n",
    "warnings.simplefilter(action='ignore', category=Warning)"
   ]
  },
  {
   "cell_type": "code",
   "execution_count": 6,
   "id": "268d028e-8f6f-4375-ab2e-b1b911b35976",
   "metadata": {},
   "outputs": [],
   "source": [
    "# Read in data\n",
    "cad_jpy_df = pd.read_csv(Path('../Downloads/cad_jpy.csv'), index_col=\"Date\", infer_datetime_format=True, parse_dates=True\n",
    " )"
   ]
  },
  {
   "cell_type": "code",
   "execution_count": 7,
   "id": "2e5f4560-bca9-4a55-8718-550ca0e79340",
   "metadata": {},
   "outputs": [
    {
     "data": {
      "text/html": [
       "<div>\n",
       "<style scoped>\n",
       "    .dataframe tbody tr th:only-of-type {\n",
       "        vertical-align: middle;\n",
       "    }\n",
       "\n",
       "    .dataframe tbody tr th {\n",
       "        vertical-align: top;\n",
       "    }\n",
       "\n",
       "    .dataframe thead th {\n",
       "        text-align: right;\n",
       "    }\n",
       "</style>\n",
       "<table border=\"1\" class=\"dataframe\">\n",
       "  <thead>\n",
       "    <tr style=\"text-align: right;\">\n",
       "      <th></th>\n",
       "      <th>Price</th>\n",
       "      <th>Open</th>\n",
       "      <th>High</th>\n",
       "      <th>Low</th>\n",
       "    </tr>\n",
       "    <tr>\n",
       "      <th>Date</th>\n",
       "      <th></th>\n",
       "      <th></th>\n",
       "      <th></th>\n",
       "      <th></th>\n",
       "    </tr>\n",
       "  </thead>\n",
       "  <tbody>\n",
       "    <tr>\n",
       "      <th>1982-01-05</th>\n",
       "      <td>184.65</td>\n",
       "      <td>184.65</td>\n",
       "      <td>184.65</td>\n",
       "      <td>184.65</td>\n",
       "    </tr>\n",
       "    <tr>\n",
       "      <th>1982-01-06</th>\n",
       "      <td>185.06</td>\n",
       "      <td>185.06</td>\n",
       "      <td>185.06</td>\n",
       "      <td>185.06</td>\n",
       "    </tr>\n",
       "    <tr>\n",
       "      <th>1982-01-07</th>\n",
       "      <td>186.88</td>\n",
       "      <td>186.88</td>\n",
       "      <td>186.88</td>\n",
       "      <td>186.88</td>\n",
       "    </tr>\n",
       "    <tr>\n",
       "      <th>1982-01-08</th>\n",
       "      <td>186.58</td>\n",
       "      <td>186.58</td>\n",
       "      <td>186.58</td>\n",
       "      <td>186.58</td>\n",
       "    </tr>\n",
       "    <tr>\n",
       "      <th>1982-01-11</th>\n",
       "      <td>187.64</td>\n",
       "      <td>187.64</td>\n",
       "      <td>187.64</td>\n",
       "      <td>187.64</td>\n",
       "    </tr>\n",
       "  </tbody>\n",
       "</table>\n",
       "</div>"
      ],
      "text/plain": [
       "             Price    Open    High     Low\n",
       "Date                                      \n",
       "1982-01-05  184.65  184.65  184.65  184.65\n",
       "1982-01-06  185.06  185.06  185.06  185.06\n",
       "1982-01-07  186.88  186.88  186.88  186.88\n",
       "1982-01-08  186.58  186.58  186.58  186.58\n",
       "1982-01-11  187.64  187.64  187.64  187.64"
      ]
     },
     "execution_count": 7,
     "metadata": {},
     "output_type": "execute_result"
    }
   ],
   "source": [
    "#show Data table\n",
    "cad_jpy_df.head()"
   ]
  },
  {
   "cell_type": "code",
   "execution_count": 8,
   "id": "5cb95d4a-5edd-44cb-906a-424e3c0fc5f6",
   "metadata": {},
   "outputs": [
    {
     "name": "stdout",
     "output_type": "stream",
     "text": [
      "<class 'pandas.core.frame.DataFrame'>\n",
      "DatetimeIndex: 9966 entries, 1982-01-05 to 2020-06-04\n",
      "Data columns (total 4 columns):\n",
      " #   Column  Non-Null Count  Dtype  \n",
      "---  ------  --------------  -----  \n",
      " 0   Price   9966 non-null   float64\n",
      " 1   Open    9966 non-null   float64\n",
      " 2   High    9966 non-null   float64\n",
      " 3   Low     9966 non-null   float64\n",
      "dtypes: float64(4)\n",
      "memory usage: 389.3 KB\n"
     ]
    }
   ],
   "source": [
    "# Check info of Pandas DataFrame\n",
    "cad_jpy_df.info()"
   ]
  },
  {
   "cell_type": "code",
   "execution_count": 9,
   "id": "0cc98bf2-5817-4109-b489-34b2eba2b53e",
   "metadata": {},
   "outputs": [],
   "source": [
    " # Read in cad_jpy_data, parse dates, and set datetime index\n",
    "cad_jpy_df2 = pd.read_csv(\n",
    "    Path('../Downloads/cad_jpy.csv'), index_col=\"Date\", infer_datetime_format=True,parse_dates=True\n",
    ")"
   ]
  },
  {
   "cell_type": "code",
   "execution_count": 10,
   "id": "bf909e4c-c1db-4ddc-9d0f-6004222fb4d1",
   "metadata": {},
   "outputs": [
    {
     "data": {
      "text/html": [
       "<div>\n",
       "<style scoped>\n",
       "    .dataframe tbody tr th:only-of-type {\n",
       "        vertical-align: middle;\n",
       "    }\n",
       "\n",
       "    .dataframe tbody tr th {\n",
       "        vertical-align: top;\n",
       "    }\n",
       "\n",
       "    .dataframe thead th {\n",
       "        text-align: right;\n",
       "    }\n",
       "</style>\n",
       "<table border=\"1\" class=\"dataframe\">\n",
       "  <thead>\n",
       "    <tr style=\"text-align: right;\">\n",
       "      <th></th>\n",
       "      <th>Price</th>\n",
       "      <th>Open</th>\n",
       "      <th>High</th>\n",
       "      <th>Low</th>\n",
       "    </tr>\n",
       "    <tr>\n",
       "      <th>Date</th>\n",
       "      <th></th>\n",
       "      <th></th>\n",
       "      <th></th>\n",
       "      <th></th>\n",
       "    </tr>\n",
       "  </thead>\n",
       "  <tbody>\n",
       "    <tr>\n",
       "      <th>1982-01-05</th>\n",
       "      <td>184.65</td>\n",
       "      <td>184.65</td>\n",
       "      <td>184.65</td>\n",
       "      <td>184.65</td>\n",
       "    </tr>\n",
       "    <tr>\n",
       "      <th>1982-01-06</th>\n",
       "      <td>185.06</td>\n",
       "      <td>185.06</td>\n",
       "      <td>185.06</td>\n",
       "      <td>185.06</td>\n",
       "    </tr>\n",
       "    <tr>\n",
       "      <th>1982-01-07</th>\n",
       "      <td>186.88</td>\n",
       "      <td>186.88</td>\n",
       "      <td>186.88</td>\n",
       "      <td>186.88</td>\n",
       "    </tr>\n",
       "    <tr>\n",
       "      <th>1982-01-08</th>\n",
       "      <td>186.58</td>\n",
       "      <td>186.58</td>\n",
       "      <td>186.58</td>\n",
       "      <td>186.58</td>\n",
       "    </tr>\n",
       "    <tr>\n",
       "      <th>1982-01-11</th>\n",
       "      <td>187.64</td>\n",
       "      <td>187.64</td>\n",
       "      <td>187.64</td>\n",
       "      <td>187.64</td>\n",
       "    </tr>\n",
       "  </tbody>\n",
       "</table>\n",
       "</div>"
      ],
      "text/plain": [
       "             Price    Open    High     Low\n",
       "Date                                      \n",
       "1982-01-05  184.65  184.65  184.65  184.65\n",
       "1982-01-06  185.06  185.06  185.06  185.06\n",
       "1982-01-07  186.88  186.88  186.88  186.88\n",
       "1982-01-08  186.58  186.58  186.58  186.58\n",
       "1982-01-11  187.64  187.64  187.64  187.64"
      ]
     },
     "execution_count": 10,
     "metadata": {},
     "output_type": "execute_result"
    }
   ],
   "source": [
    "cad_jpy_df2.head()"
   ]
  },
  {
   "cell_type": "code",
   "execution_count": 11,
   "id": "e61c2263-ffa5-4715-82b7-351bba99b46f",
   "metadata": {},
   "outputs": [
    {
     "data": {
      "text/html": [
       "<div>\n",
       "<style scoped>\n",
       "    .dataframe tbody tr th:only-of-type {\n",
       "        vertical-align: middle;\n",
       "    }\n",
       "\n",
       "    .dataframe tbody tr th {\n",
       "        vertical-align: top;\n",
       "    }\n",
       "\n",
       "    .dataframe thead th {\n",
       "        text-align: right;\n",
       "    }\n",
       "</style>\n",
       "<table border=\"1\" class=\"dataframe\">\n",
       "  <thead>\n",
       "    <tr style=\"text-align: right;\">\n",
       "      <th></th>\n",
       "      <th>Price</th>\n",
       "      <th>Open</th>\n",
       "      <th>High</th>\n",
       "      <th>Low</th>\n",
       "    </tr>\n",
       "    <tr>\n",
       "      <th>Date</th>\n",
       "      <th></th>\n",
       "      <th></th>\n",
       "      <th></th>\n",
       "      <th></th>\n",
       "    </tr>\n",
       "  </thead>\n",
       "  <tbody>\n",
       "    <tr>\n",
       "      <th>1990-01-02</th>\n",
       "      <td>126.37</td>\n",
       "      <td>126.31</td>\n",
       "      <td>126.37</td>\n",
       "      <td>126.31</td>\n",
       "    </tr>\n",
       "    <tr>\n",
       "      <th>1990-01-03</th>\n",
       "      <td>125.30</td>\n",
       "      <td>125.24</td>\n",
       "      <td>125.30</td>\n",
       "      <td>125.24</td>\n",
       "    </tr>\n",
       "    <tr>\n",
       "      <th>1990-01-04</th>\n",
       "      <td>123.46</td>\n",
       "      <td>123.41</td>\n",
       "      <td>123.46</td>\n",
       "      <td>123.41</td>\n",
       "    </tr>\n",
       "    <tr>\n",
       "      <th>1990-01-05</th>\n",
       "      <td>124.54</td>\n",
       "      <td>124.48</td>\n",
       "      <td>124.54</td>\n",
       "      <td>124.48</td>\n",
       "    </tr>\n",
       "    <tr>\n",
       "      <th>1990-01-08</th>\n",
       "      <td>124.27</td>\n",
       "      <td>124.21</td>\n",
       "      <td>124.27</td>\n",
       "      <td>124.21</td>\n",
       "    </tr>\n",
       "  </tbody>\n",
       "</table>\n",
       "</div>"
      ],
      "text/plain": [
       "             Price    Open    High     Low\n",
       "Date                                      \n",
       "1990-01-02  126.37  126.31  126.37  126.31\n",
       "1990-01-03  125.30  125.24  125.30  125.24\n",
       "1990-01-04  123.46  123.41  123.46  123.41\n",
       "1990-01-05  124.54  124.48  124.54  124.48\n",
       "1990-01-08  124.27  124.21  124.27  124.21"
      ]
     },
     "execution_count": 11,
     "metadata": {},
     "output_type": "execute_result"
    }
   ],
   "source": [
    " # Trim the dataset to begin on January 1st, 1990\n",
    "cad_jpy_df2 = cad_jpy_df.loc[\"1990-01-01\":, :]\n",
    "cad_jpy_df2.head()"
   ]
  },
  {
   "cell_type": "code",
   "execution_count": 12,
   "id": "58d8b058-e5b8-474e-9a37-18c163688d1d",
   "metadata": {},
   "outputs": [
    {
     "data": {
      "text/plain": [
       "137.28"
      ]
     },
     "execution_count": 12,
     "metadata": {},
     "output_type": "execute_result"
    }
   ],
   "source": [
    "#High_Price\n",
    "cad_jpy_df2[\"Price\"].max()"
   ]
  },
  {
   "cell_type": "code",
   "execution_count": 13,
   "id": "6b64400b-75c6-4284-b79d-da765f4b0d6c",
   "metadata": {},
   "outputs": [],
   "source": [
    "#Return Forecasting: Time Series Analysis & Modelling with CAD-PHY Exchange rate data.\n",
    "\n",
    "#In this notebook, you will load historical Canadian Dollar-Yen exchange rate futures data and apply time \n",
    "#series analysis and modeling to determine whether there is any predictable behavior.\n",
    "\n",
    "# Currency pair exchange rates for CAD/JPY\n"
   ]
  },
  {
   "cell_type": "code",
   "execution_count": 14,
   "id": "628d4718-6d6c-4634-8fa4-aac7b9fb43be",
   "metadata": {},
   "outputs": [
    {
     "data": {
      "text/plain": [
       "<AxesSubplot:xlabel='Date'>"
      ]
     },
     "execution_count": 14,
     "metadata": {},
     "output_type": "execute_result"
    },
    {
     "data": {
      "image/png": "[encoded data removed]",
      "text/plain": [
       "<Figure size 576x288 with 1 Axes>"
      ]
     },
     "metadata": {
      "needs_background": "light"
     },
     "output_type": "display_data"
    }
   ],
   "source": [
    "# Plot price data\n",
    "cad_jpy_df2.Price.plot(figsize =(8,4))\n",
    "\n",
    "# 1 Do you see any patterns, long-term and/or short?\n",
    "\n",
    "# A.Yes. The CAD currency(loonie) has declined in value steadily against the JPY from 1990-2020.  "
   ]
  },
  {
   "cell_type": "code",
   "execution_count": 15,
   "id": "e249ee1b-06c1-4c1a-86de-c52f8699d910",
   "metadata": {},
   "outputs": [],
   "source": [
    "#Decomposition using a Hodrick-Prescott filter (decompose the settle price into trend and noise).\n",
    "\n",
    "import statsmodels.api as sm\n",
    "\n",
    "# Apply the Hodrick-Prescott Filter by decomposing the exchange rate price into two separate series:\n",
    "\n",
    "cad_jpy_noise, cad_jpy_trend = sm.tsa.filters.hpfilter(cad_jpy_df2['Price'])\n",
    "\n"
   ]
  },
  {
   "cell_type": "code",
   "execution_count": 16,
   "id": "af7680db-a4e5-4b31-9824-3bb9edbbdc3b",
   "metadata": {},
   "outputs": [
    {
     "data": {
      "text/html": [
       "<div>\n",
       "<style scoped>\n",
       "    .dataframe tbody tr th:only-of-type {\n",
       "        vertical-align: middle;\n",
       "    }\n",
       "\n",
       "    .dataframe tbody tr th {\n",
       "        vertical-align: top;\n",
       "    }\n",
       "\n",
       "    .dataframe thead th {\n",
       "        text-align: right;\n",
       "    }\n",
       "</style>\n",
       "<table border=\"1\" class=\"dataframe\">\n",
       "  <thead>\n",
       "    <tr style=\"text-align: right;\">\n",
       "      <th></th>\n",
       "      <th>Price</th>\n",
       "      <th>Price_cycle</th>\n",
       "      <th>Price_trend</th>\n",
       "    </tr>\n",
       "    <tr>\n",
       "      <th>Date</th>\n",
       "      <th></th>\n",
       "      <th></th>\n",
       "      <th></th>\n",
       "    </tr>\n",
       "  </thead>\n",
       "  <tbody>\n",
       "    <tr>\n",
       "      <th>1990-01-02</th>\n",
       "      <td>126.37</td>\n",
       "      <td>0.519095</td>\n",
       "      <td>125.850905</td>\n",
       "    </tr>\n",
       "    <tr>\n",
       "      <th>1990-01-03</th>\n",
       "      <td>125.30</td>\n",
       "      <td>-0.379684</td>\n",
       "      <td>125.679684</td>\n",
       "    </tr>\n",
       "    <tr>\n",
       "      <th>1990-01-04</th>\n",
       "      <td>123.46</td>\n",
       "      <td>-2.048788</td>\n",
       "      <td>125.508788</td>\n",
       "    </tr>\n",
       "    <tr>\n",
       "      <th>1990-01-05</th>\n",
       "      <td>124.54</td>\n",
       "      <td>-0.798304</td>\n",
       "      <td>125.338304</td>\n",
       "    </tr>\n",
       "    <tr>\n",
       "      <th>1990-01-08</th>\n",
       "      <td>124.27</td>\n",
       "      <td>-0.897037</td>\n",
       "      <td>125.167037</td>\n",
       "    </tr>\n",
       "  </tbody>\n",
       "</table>\n",
       "</div>"
      ],
      "text/plain": [
       "             Price  Price_cycle  Price_trend\n",
       "Date                                        \n",
       "1990-01-02  126.37     0.519095   125.850905\n",
       "1990-01-03  125.30    -0.379684   125.679684\n",
       "1990-01-04  123.46    -2.048788   125.508788\n",
       "1990-01-05  124.54    -0.798304   125.338304\n",
       "1990-01-08  124.27    -0.897037   125.167037"
      ]
     },
     "execution_count": 16,
     "metadata": {},
     "output_type": "execute_result"
    }
   ],
   "source": [
    "# Create a dataframe of just the exchange rate price, \n",
    "\n",
    "#and add columns for \"noise\" and \"trend\" series from above:\n",
    "\n",
    "cad_jpy_df3 = cad_jpy_df2 = pd.concat([cad_jpy_df2[\"Price\"], cad_jpy_noise, cad_jpy_trend], axis=1)\n",
    "cad_jpy_df3.head()"
   ]
  },
  {
   "cell_type": "code",
   "execution_count": 17,
   "id": "0947894d-949d-4864-8075-3a7724aeccb3",
   "metadata": {},
   "outputs": [
    {
     "data": {
      "text/plain": [
       "Price          86.156238\n",
       "Price_cycle    -0.001003\n",
       "Price_trend    86.157240\n",
       "dtype: float64"
      ]
     },
     "execution_count": 17,
     "metadata": {},
     "output_type": "execute_result"
    }
   ],
   "source": [
    "# Plot the Exchange Rate Price vs. the Trend for 2015 to the present.\n",
    "\n",
    "#Setting the range to be plotted\n",
    "\n",
    "cad_jpy_df3.loc[\"2015-01-01\":\"2020-01-01\"].mean()"
   ]
  },
  {
   "cell_type": "code",
   "execution_count": 18,
   "id": "8e0b013c-7930-44a6-a311-5c28d709aa7e",
   "metadata": {},
   "outputs": [
    {
     "data": {
      "text/plain": [
       "Text(0.5, 1.0, 'Exchange Rate Price vs. Trend')"
      ]
     },
     "execution_count": 18,
     "metadata": {},
     "output_type": "execute_result"
    },
    {
     "data": {
      "image/png": "[encoded data removed]",
      "text/plain": [
       "<Figure size 432x288 with 1 Axes>"
      ]
     },
     "metadata": {
      "needs_background": "light"
     },
     "output_type": "display_data"
    }
   ],
   "source": [
    "# Plot the Exchange Rate Price vs. the Trend for 2015 to the present day as at 2020 (5yr)\n",
    "plt.plot(cad_jpy_df3.loc[\"2015\":, [\"Price\", \"Price_trend\"]])\n",
    "plt.title(\"Exchange Rate Price vs. Trend\")"
   ]
  },
  {
   "cell_type": "code",
   "execution_count": 19,
   "id": "21f3c1c8-252b-4ea4-94f6-38976bb313d7",
   "metadata": {},
   "outputs": [
    {
     "data": {
      "text/plain": [
       "Text(0.5, 1.0, 'Price Trend')"
      ]
     },
     "execution_count": 19,
     "metadata": {},
     "output_type": "execute_result"
    },
    {
     "data": {
      "image/png": "[encoded data removed]",
      "text/plain": [
       "<Figure size 432x288 with 1 Axes>"
      ]
     },
     "metadata": {
      "needs_background": "light"
     },
     "output_type": "display_data"
    }
   ],
   "source": [
    "# Plot the trend independently\n",
    "cad_jpy_trend.plot()\n",
    "plt.title(\"Price Trend\")\n",
    "\n",
    "#Q2.  Do you see any patterns, long-term and/or short?\n",
    "\n",
    "#A. Over the last 5yrs the buying power of the CDN Loonie relative to the JPY Yuan has decreased from a high point in 2015 ($1 lonnie buying 103 JPY), to a $1 CDN buying only 80 JPY."
   ]
  },
  {
   "cell_type": "code",
   "execution_count": 20,
   "id": "901db2c2-8d84-415d-9e4a-a3da023e3941",
   "metadata": {},
   "outputs": [
    {
     "data": {
      "text/plain": [
       "Text(0.5, 1.0, 'Noise')"
      ]
     },
     "execution_count": 20,
     "metadata": {},
     "output_type": "execute_result"
    },
    {
     "data": {
      "image/png": "[encoded data removed]",
      "text/plain": [
       "<Figure size 432x288 with 1 Axes>"
      ]
     },
     "metadata": {
      "needs_background": "light"
     },
     "output_type": "display_data"
    }
   ],
   "source": [
    "# Plot noise independently\n",
    "cad_jpy_noise.plot()\n",
    "plt.title(\"Noise\")"
   ]
  },
  {
   "cell_type": "code",
   "execution_count": 21,
   "id": "649e7cfb-e451-4e50-9d71-741240f1902b",
   "metadata": {},
   "outputs": [],
   "source": [
    "#Forecasting returns using an ARIMA model.\n",
    "\n",
    "#Using exchange rate Returns, estimate an ARMA model\n",
    "\n",
    "#ARIMA: Create an ARIMA model and fit it to the returns data. \n",
    "\n",
    "###Note: Set the AR and MA (\"p\" and \"q\") parameters to p=2 and q=1: order=(2, 1).###\n",
    "\n",
    "#Output the ARIMA summary table and take note of the p-values of the lags. \n",
    "\n",
    "###Based on the p-values, is the model a good fit (p < 0.05)??????###\n",
    "\n",
    "#Plot the 5-day forecast of the forecasted returns (the results forecast from ARMA model)"
   ]
  },
  {
   "cell_type": "code",
   "execution_count": 22,
   "id": "7aeb1030-e3fd-4939-ab9c-4706cf669f9f",
   "metadata": {},
   "outputs": [
    {
     "data": {
      "text/html": [
       "<div>\n",
       "<style scoped>\n",
       "    .dataframe tbody tr th:only-of-type {\n",
       "        vertical-align: middle;\n",
       "    }\n",
       "\n",
       "    .dataframe tbody tr th {\n",
       "        vertical-align: top;\n",
       "    }\n",
       "\n",
       "    .dataframe thead th {\n",
       "        text-align: right;\n",
       "    }\n",
       "</style>\n",
       "<table border=\"1\" class=\"dataframe\">\n",
       "  <thead>\n",
       "    <tr style=\"text-align: right;\">\n",
       "      <th></th>\n",
       "      <th>Price</th>\n",
       "    </tr>\n",
       "    <tr>\n",
       "      <th>Date</th>\n",
       "      <th></th>\n",
       "    </tr>\n",
       "  </thead>\n",
       "  <tbody>\n",
       "    <tr>\n",
       "      <th>2020-05-29</th>\n",
       "      <td>0.076697</td>\n",
       "    </tr>\n",
       "    <tr>\n",
       "      <th>2020-06-01</th>\n",
       "      <td>1.251756</td>\n",
       "    </tr>\n",
       "    <tr>\n",
       "      <th>2020-06-02</th>\n",
       "      <td>1.425508</td>\n",
       "    </tr>\n",
       "    <tr>\n",
       "      <th>2020-06-03</th>\n",
       "      <td>0.373134</td>\n",
       "    </tr>\n",
       "    <tr>\n",
       "      <th>2020-06-04</th>\n",
       "      <td>0.012392</td>\n",
       "    </tr>\n",
       "  </tbody>\n",
       "</table>\n",
       "</div>"
      ],
      "text/plain": [
       "               Price\n",
       "Date                \n",
       "2020-05-29  0.076697\n",
       "2020-06-01  1.251756\n",
       "2020-06-02  1.425508\n",
       "2020-06-03  0.373134\n",
       "2020-06-04  0.012392"
      ]
     },
     "execution_count": 22,
     "metadata": {},
     "output_type": "execute_result"
    }
   ],
   "source": [
    "import statsmodels.api as sm\n",
    "\n",
    "# Import the ARIMA model\n",
    "from statsmodels.tsa.arima.model import ARIMA\n",
    "\n",
    "# Create a series using \"Price\" percentage returns, drop any nan\"s, and check the results:\n",
    "# (Make sure to multiply the pct_change() results by 100)\n",
    "# In this case, you may have to replace inf, -inf values with np.nan\"s\n",
    "returns = (cad_jpy_df[[\"Price\"]].pct_change() * 100)\n",
    "returns = returns.replace(-np.inf, np.nan).dropna()\n",
    "returns.tail()\n",
    "# 3 Based on the p-value, is the model a good fit?"
   ]
  },
  {
   "cell_type": "code",
   "execution_count": 23,
   "id": "ec320689-076c-437d-b148-04b029d1e20a",
   "metadata": {},
   "outputs": [
    {
     "data": {
      "text/plain": [
       "Text(0.5, 1.0, 'Price Returns')"
      ]
     },
     "execution_count": 23,
     "metadata": {},
     "output_type": "execute_result"
    },
    {
     "data": {
      "image/png": "[encoded data removed]",
      "text/plain": [
       "<Figure size 432x288 with 1 Axes>"
      ]
     },
     "metadata": {
      "needs_background": "light"
     },
     "output_type": "display_data"
    }
   ],
   "source": [
    "# Plotting price returns\n",
    "plt.plot(returns[\"Price\"])\n",
    "plt.title(\"Price Returns\")"
   ]
  },
  {
   "cell_type": "code",
   "execution_count": 44,
   "id": "8cc66143-4378-480f-8598-f4e14028c29d",
   "metadata": {},
   "outputs": [
    {
     "data": {
      "text/html": [
       "<table class=\"simpletable\">\n",
       "<caption>SARIMAX Results</caption>\n",
       "<tr>\n",
       "  <th>Dep. Variable:</th>           <td>y</td>        <th>  No. Observations:  </th>    <td>9965</td>   \n",
       "</tr>\n",
       "<tr>\n",
       "  <th>Model:</th>            <td>ARIMA(2, 1, 1)</td>  <th>  Log Likelihood     </th> <td>-11928.217</td>\n",
       "</tr>\n",
       "<tr>\n",
       "  <th>Date:</th>            <td>Mon, 13 Jun 2022</td> <th>  AIC                </th>  <td>23864.434</td>\n",
       "</tr>\n",
       "<tr>\n",
       "  <th>Time:</th>                <td>18:23:33</td>     <th>  BIC                </th>  <td>23893.261</td>\n",
       "</tr>\n",
       "<tr>\n",
       "  <th>Sample:</th>                  <td>0</td>        <th>  HQIC               </th>  <td>23874.194</td>\n",
       "</tr>\n",
       "<tr>\n",
       "  <th></th>                      <td> - 9965</td>     <th>                     </th>      <td> </td>    \n",
       "</tr>\n",
       "<tr>\n",
       "  <th>Covariance Type:</th>        <td>opg</td>       <th>                     </th>      <td> </td>    \n",
       "</tr>\n",
       "</table>\n",
       "<table class=\"simpletable\">\n",
       "<tr>\n",
       "     <td></td>       <th>coef</th>     <th>std err</th>      <th>z</th>      <th>P>|z|</th>  <th>[0.025</th>    <th>0.975]</th>  \n",
       "</tr>\n",
       "<tr>\n",
       "  <th>ar.L1</th>  <td>   -0.0238</td> <td>    0.006</td> <td>   -3.895</td> <td> 0.000</td> <td>   -0.036</td> <td>   -0.012</td>\n",
       "</tr>\n",
       "<tr>\n",
       "  <th>ar.L2</th>  <td>   -0.0011</td> <td>    0.006</td> <td>   -0.193</td> <td> 0.847</td> <td>   -0.012</td> <td>    0.010</td>\n",
       "</tr>\n",
       "<tr>\n",
       "  <th>ma.L1</th>  <td>   -0.9999</td> <td>    0.001</td> <td>-1710.747</td> <td> 0.000</td> <td>   -1.001</td> <td>   -0.999</td>\n",
       "</tr>\n",
       "<tr>\n",
       "  <th>sigma2</th> <td>    0.6412</td> <td>    0.005</td> <td>  139.734</td> <td> 0.000</td> <td>    0.632</td> <td>    0.650</td>\n",
       "</tr>\n",
       "</table>\n",
       "<table class=\"simpletable\">\n",
       "<tr>\n",
       "  <th>Ljung-Box (L1) (Q):</th>     <td>0.00</td> <th>  Jarque-Bera (JB):  </th> <td>16998.79</td>\n",
       "</tr>\n",
       "<tr>\n",
       "  <th>Prob(Q):</th>                <td>0.99</td> <th>  Prob(JB):          </th>   <td>0.00</td>  \n",
       "</tr>\n",
       "<tr>\n",
       "  <th>Heteroskedasticity (H):</th> <td>1.70</td> <th>  Skew:              </th>   <td>-0.39</td> \n",
       "</tr>\n",
       "<tr>\n",
       "  <th>Prob(H) (two-sided):</th>    <td>0.00</td> <th>  Kurtosis:          </th>   <td>9.35</td>  \n",
       "</tr>\n",
       "</table><br/><br/>Warnings:<br/>[1] Covariance matrix calculated using the outer product of gradients (complex-step)."
      ],
      "text/plain": [
       "<class 'statsmodels.iolib.summary.Summary'>\n",
       "\"\"\"\n",
       "                               SARIMAX Results                                \n",
       "==============================================================================\n",
       "Dep. Variable:                      y   No. Observations:                 9965\n",
       "Model:                 ARIMA(2, 1, 1)   Log Likelihood              -11928.217\n",
       "Date:                Mon, 13 Jun 2022   AIC                          23864.434\n",
       "Time:                        18:23:33   BIC                          23893.261\n",
       "Sample:                             0   HQIC                         23874.194\n",
       "                               - 9965                                         \n",
       "Covariance Type:                  opg                                         \n",
       "==============================================================================\n",
       "                 coef    std err          z      P>|z|      [0.025      0.975]\n",
       "------------------------------------------------------------------------------\n",
       "ar.L1         -0.0238      0.006     -3.895      0.000      -0.036      -0.012\n",
       "ar.L2         -0.0011      0.006     -0.193      0.847      -0.012       0.010\n",
       "ma.L1         -0.9999      0.001  -1710.747      0.000      -1.001      -0.999\n",
       "sigma2         0.6412      0.005    139.734      0.000       0.632       0.650\n",
       "===================================================================================\n",
       "Ljung-Box (L1) (Q):                   0.00   Jarque-Bera (JB):             16998.79\n",
       "Prob(Q):                              0.99   Prob(JB):                         0.00\n",
       "Heteroskedasticity (H):               1.70   Skew:                            -0.39\n",
       "Prob(H) (two-sided):                  0.00   Kurtosis:                         9.35\n",
       "===================================================================================\n",
       "\n",
       "Warnings:\n",
       "[1] Covariance matrix calculated using the outer product of gradients (complex-step).\n",
       "\"\"\""
      ]
     },
     "execution_count": 44,
     "metadata": {},
     "output_type": "execute_result"
    }
   ],
   "source": [
    "import statsmodels.api as sm\n",
    "from statsmodels.tsa.arima.model import ARIMA\n",
    "\n",
    "# Estimate and ARIMA model using statsmodels (use order=(2, 1))  ****Had to add another \"1\" for the model to run.****\n",
    "# Fit the model and assign it to a variable called results\n",
    "# Output model summary results:\n",
    "model = ARIMA(returns.values, order=(2,1, 1))\n",
    "results = model.fit()\n",
    "results.summary()"
   ]
  },
  {
   "cell_type": "code",
   "execution_count": 25,
   "id": "a61d6b78-4020-4144-bef3-81a1a9a296a3",
   "metadata": {},
   "outputs": [],
   "source": [
    "#Forecasting returns using an ARMA model.\n",
    "\n",
    "#Q. Based on the p-value, is the model a good fit? \n",
    "\n",
    "# A. For all but ar.L2 the P value is significant (under .50), for ar.L2 the P value is insignificant."
   ]
  },
  {
   "cell_type": "code",
   "execution_count": 26,
   "id": "30c78950-7188-4c9b-b302-2495d1f01c5c",
   "metadata": {},
   "outputs": [
    {
     "name": "stderr",
     "output_type": "stream",
     "text": [
      "/Users/tylerscott/opt/anaconda3/lib/python3.9/site-packages/statsmodels/tsa/base/tsa_model.py:471: ValueWarning: A date index has been provided, but it has no associated frequency information and so will be ignored when e.g. forecasting.\n",
      "  self._init_dates(dates, freq)\n",
      "/Users/tylerscott/opt/anaconda3/lib/python3.9/site-packages/statsmodels/tsa/base/tsa_model.py:471: ValueWarning: A date index has been provided, but it has no associated frequency information and so will be ignored when e.g. forecasting.\n",
      "  self._init_dates(dates, freq)\n",
      "/Users/tylerscott/opt/anaconda3/lib/python3.9/site-packages/statsmodels/tsa/base/tsa_model.py:471: ValueWarning: A date index has been provided, but it has no associated frequency information and so will be ignored when e.g. forecasting.\n",
      "  self._init_dates(dates, freq)\n"
     ]
    }
   ],
   "source": [
    "#Forecasting the Exchange Rate Price using an ARIMA Model\n",
    " \n",
    "#Using the raw CAD/JPY exchange rate price, estimate an ARIMA model.\n",
    "\n",
    "#Set P=5, D=1, and Q=1 in the model (e.g., ARIMA(df, order=(5,1,1))P= # of Auto-Regressive Lags, D= # of Differences (this is usually =1), Q= # of Moving Average Lags\n",
    "\n",
    "#Output the ARIMA summary table and take note of the p-values of the lags. Based on the p-values, is the model a good fit (p < 0.05)?Plot a 5 day forecast for the Exchange Rate Price. What does the model forecast predict will happen to the Japanese Yen in the near term?\n",
    "\n",
    "from statsmodels.tsa.arima.model import ARIMA\n",
    "\n",
    "# Estimate and ARIMA Model:\n",
    "# Hint: ARIMA(df, order=(p, d, q))\n",
    "model = ARIMA(cad_jpy_df[[\"Price\"]], order=(5, 1, 1))"
   ]
  },
  {
   "cell_type": "code",
   "execution_count": 27,
   "id": "dee2bca0-71ad-433f-a335-ba9c631357d9",
   "metadata": {},
   "outputs": [],
   "source": [
    "# Fit the model\n",
    "results = model.fit()"
   ]
  },
  {
   "cell_type": "code",
   "execution_count": 28,
   "id": "86afa45a-87f4-4a1b-941e-afd093b640c3",
   "metadata": {},
   "outputs": [
    {
     "data": {
      "text/html": [
       "<table class=\"simpletable\">\n",
       "<caption>SARIMAX Results</caption>\n",
       "<tr>\n",
       "  <th>Dep. Variable:</th>         <td>Price</td>      <th>  No. Observations:  </th>    <td>9966</td>   \n",
       "</tr>\n",
       "<tr>\n",
       "  <th>Model:</th>            <td>ARIMA(5, 1, 1)</td>  <th>  Log Likelihood     </th> <td>-11738.221</td>\n",
       "</tr>\n",
       "<tr>\n",
       "  <th>Date:</th>            <td>Mon, 13 Jun 2022</td> <th>  AIC                </th>  <td>23490.441</td>\n",
       "</tr>\n",
       "<tr>\n",
       "  <th>Time:</th>                <td>18:04:37</td>     <th>  BIC                </th>  <td>23540.889</td>\n",
       "</tr>\n",
       "<tr>\n",
       "  <th>Sample:</th>                  <td>0</td>        <th>  HQIC               </th>  <td>23507.520</td>\n",
       "</tr>\n",
       "<tr>\n",
       "  <th></th>                      <td> - 9966</td>     <th>                     </th>      <td> </td>    \n",
       "</tr>\n",
       "<tr>\n",
       "  <th>Covariance Type:</th>        <td>opg</td>       <th>                     </th>      <td> </td>    \n",
       "</tr>\n",
       "</table>\n",
       "<table class=\"simpletable\">\n",
       "<tr>\n",
       "     <td></td>       <th>coef</th>     <th>std err</th>      <th>z</th>      <th>P>|z|</th>  <th>[0.025</th>    <th>0.975]</th>  \n",
       "</tr>\n",
       "<tr>\n",
       "  <th>ar.L1</th>  <td>   -0.0041</td> <td>    1.795</td> <td>   -0.002</td> <td> 0.998</td> <td>   -3.522</td> <td>    3.514</td>\n",
       "</tr>\n",
       "<tr>\n",
       "  <th>ar.L2</th>  <td>    0.0120</td> <td>    0.016</td> <td>    0.750</td> <td> 0.454</td> <td>   -0.019</td> <td>    0.044</td>\n",
       "</tr>\n",
       "<tr>\n",
       "  <th>ar.L3</th>  <td>    0.0085</td> <td>    0.023</td> <td>    0.370</td> <td> 0.711</td> <td>   -0.036</td> <td>    0.053</td>\n",
       "</tr>\n",
       "<tr>\n",
       "  <th>ar.L4</th>  <td>    0.0150</td> <td>    0.017</td> <td>    0.904</td> <td> 0.366</td> <td>   -0.018</td> <td>    0.047</td>\n",
       "</tr>\n",
       "<tr>\n",
       "  <th>ar.L5</th>  <td>    0.0038</td> <td>    0.028</td> <td>    0.137</td> <td> 0.891</td> <td>   -0.051</td> <td>    0.059</td>\n",
       "</tr>\n",
       "<tr>\n",
       "  <th>ma.L1</th>  <td>   -0.0041</td> <td>    1.795</td> <td>   -0.002</td> <td> 0.998</td> <td>   -3.522</td> <td>    3.514</td>\n",
       "</tr>\n",
       "<tr>\n",
       "  <th>sigma2</th> <td>    0.6175</td> <td>    0.004</td> <td>  145.769</td> <td> 0.000</td> <td>    0.609</td> <td>    0.626</td>\n",
       "</tr>\n",
       "</table>\n",
       "<table class=\"simpletable\">\n",
       "<tr>\n",
       "  <th>Ljung-Box (L1) (Q):</th>     <td>0.00</td> <th>  Jarque-Bera (JB):  </th> <td>18861.16</td>\n",
       "</tr>\n",
       "<tr>\n",
       "  <th>Prob(Q):</th>                <td>0.99</td> <th>  Prob(JB):          </th>   <td>0.00</td>  \n",
       "</tr>\n",
       "<tr>\n",
       "  <th>Heteroskedasticity (H):</th> <td>0.81</td> <th>  Skew:              </th>   <td>-0.66</td> \n",
       "</tr>\n",
       "<tr>\n",
       "  <th>Prob(H) (two-sided):</th>    <td>0.00</td> <th>  Kurtosis:          </th>   <td>9.61</td>  \n",
       "</tr>\n",
       "</table><br/><br/>Warnings:<br/>[1] Covariance matrix calculated using the outer product of gradients (complex-step)."
      ],
      "text/plain": [
       "<class 'statsmodels.iolib.summary.Summary'>\n",
       "\"\"\"\n",
       "                               SARIMAX Results                                \n",
       "==============================================================================\n",
       "Dep. Variable:                  Price   No. Observations:                 9966\n",
       "Model:                 ARIMA(5, 1, 1)   Log Likelihood              -11738.221\n",
       "Date:                Mon, 13 Jun 2022   AIC                          23490.441\n",
       "Time:                        18:04:37   BIC                          23540.889\n",
       "Sample:                             0   HQIC                         23507.520\n",
       "                               - 9966                                         \n",
       "Covariance Type:                  opg                                         \n",
       "==============================================================================\n",
       "                 coef    std err          z      P>|z|      [0.025      0.975]\n",
       "------------------------------------------------------------------------------\n",
       "ar.L1         -0.0041      1.795     -0.002      0.998      -3.522       3.514\n",
       "ar.L2          0.0120      0.016      0.750      0.454      -0.019       0.044\n",
       "ar.L3          0.0085      0.023      0.370      0.711      -0.036       0.053\n",
       "ar.L4          0.0150      0.017      0.904      0.366      -0.018       0.047\n",
       "ar.L5          0.0038      0.028      0.137      0.891      -0.051       0.059\n",
       "ma.L1         -0.0041      1.795     -0.002      0.998      -3.522       3.514\n",
       "sigma2         0.6175      0.004    145.769      0.000       0.609       0.626\n",
       "===================================================================================\n",
       "Ljung-Box (L1) (Q):                   0.00   Jarque-Bera (JB):             18861.16\n",
       "Prob(Q):                              0.99   Prob(JB):                         0.00\n",
       "Heteroskedasticity (H):               0.81   Skew:                            -0.66\n",
       "Prob(H) (two-sided):                  0.00   Kurtosis:                         9.61\n",
       "===================================================================================\n",
       "\n",
       "Warnings:\n",
       "[1] Covariance matrix calculated using the outer product of gradients (complex-step).\n",
       "\"\"\""
      ]
     },
     "execution_count": 28,
     "metadata": {},
     "output_type": "execute_result"
    }
   ],
   "source": [
    "# Output model summary results:\n",
    "results.summary()"
   ]
  },
  {
   "cell_type": "code",
   "execution_count": 29,
   "id": "30764640-3893-430c-b22e-ed21d067c4c8",
   "metadata": {},
   "outputs": [
    {
     "name": "stderr",
     "output_type": "stream",
     "text": [
      "/Users/tylerscott/opt/anaconda3/lib/python3.9/site-packages/statsmodels/tsa/base/tsa_model.py:834: ValueWarning: No supported index is available. Prediction results will be given with an integer index beginning at `start`.\n",
      "  return get_prediction_index(\n"
     ]
    },
    {
     "data": {
      "text/plain": [
       "Text(0.5, 1.0, '5 Day Exchange Rate Price Forecast')"
      ]
     },
     "execution_count": 29,
     "metadata": {},
     "output_type": "execute_result"
    },
    {
     "data": {
      "image/png": "[encoded data removed]",
      "text/plain": [
       "<Figure size 432x288 with 1 Axes>"
      ]
     },
     "metadata": {
      "needs_background": "light"
     },
     "output_type": "display_data"
    }
   ],
   "source": [
    "arima_forecast=pd.DataFrame(results.forecast(steps=5))\n",
    "plt.plot(arima_forecast)\n",
    "plt.title(\"5 Day Exchange Rate Price Forecast\")"
   ]
  },
  {
   "cell_type": "code",
   "execution_count": 30,
   "id": "e29c75ef-b330-416f-9e53-072ef9b660d2",
   "metadata": {},
   "outputs": [],
   "source": [
    "#Q: What does the model forecast will happen to the Japanese Yen in the near term?\n",
    "\n",
    "#A:This model forecasts that over the next 5 days the CAD/JPY Exchange rate could have a positive result for the CDN dollar relative to the JPY Yuan.  CDN Loonie will/could buy more JPY. The value of the JPY is expected to decrease relative to the Loonie.\n"
   ]
  },
  {
   "cell_type": "code",
   "execution_count": 31,
   "id": "49484516-d945-4035-ae75-f0091badbfff",
   "metadata": {},
   "outputs": [],
   "source": [
    "# Forecasting volatility with GARCH.\n",
    "\n",
    "#Rather than predicting returns, let's forecast near-term volatility of Japanese Yen exchange rate returns. \n",
    "#Being able to accurately predict volatility will be extremely useful if we want to trade in derivatives or quantify our maximum loss.\n",
    "\n",
    "#Using exchange rate Returns, estimate a GARCH model. Hint: You can reuse the returns variable from the ARMA model section.\n",
    "\n",
    "#GARCH: Create an GARCH model and fit it to the returns data. \n",
    "\n",
    "#Note: Set the parameters to p=2 and q=1: order=(2, 1).\n",
    "\n",
    "#Output the GARCH summary table and take note of the p-values of the lags. \n",
    "\n",
    "#Based on the p-values, is the model a good fit (p < 0.05)?\n",
    "\n",
    "#Plot the 5-day forecast of the volatility.\n",
    "\n",
    "# 5 What does the model forecast will happen to volatility in the near term?\n",
    "\n",
    "from arch import arch_model"
   ]
  },
  {
   "cell_type": "code",
   "execution_count": 32,
   "id": "56ef41d0-9318-4c29-b913-49e2e06527dc",
   "metadata": {},
   "outputs": [],
   "source": [
    " # 'p' and 'q'  are akin to the 'p' and 'q' of an ARMA model.\n",
    "# 'vol=\"GARCH\"' means that we're using a GARCH model.\n",
    "# The 'mean=\"Zero\"' means that we're estimating a GARCH.\n",
    "from arch import arch_model\n",
    "model = arch_model(returns, mean=\"Zero\", vol=\"GARCH\", p=2, q=1)"
   ]
  },
  {
   "cell_type": "code",
   "execution_count": 33,
   "id": "614093ee-a852-4c45-b67a-90869d407e09",
   "metadata": {},
   "outputs": [],
   "source": [
    "res = model.fit(disp=\"off\")"
   ]
  },
  {
   "cell_type": "code",
   "execution_count": 34,
   "id": "ab5cdf7e-6320-4d28-b303-41706a680ea9",
   "metadata": {},
   "outputs": [
    {
     "data": {
      "text/html": [
       "<table class=\"simpletable\">\n",
       "<caption>Zero Mean - GARCH Model Results</caption>\n",
       "<tr>\n",
       "  <th>Dep. Variable:</th>        <td>Price</td>       <th>  R-squared:         </th>  <td>   0.000</td> \n",
       "</tr>\n",
       "<tr>\n",
       "  <th>Mean Model:</th>         <td>Zero Mean</td>     <th>  Adj. R-squared:    </th>  <td>   0.000</td> \n",
       "</tr>\n",
       "<tr>\n",
       "  <th>Vol Model:</th>            <td>GARCH</td>       <th>  Log-Likelihood:    </th> <td>  -10867.3</td>\n",
       "</tr>\n",
       "<tr>\n",
       "  <th>Distribution:</th>        <td>Normal</td>       <th>  AIC:               </th> <td>   21742.7</td>\n",
       "</tr>\n",
       "<tr>\n",
       "  <th>Method:</th>        <td>Maximum Likelihood</td> <th>  BIC:               </th> <td>   21771.5</td>\n",
       "</tr>\n",
       "<tr>\n",
       "  <th></th>                        <td></td>          <th>  No. Observations:  </th>    <td>9965</td>   \n",
       "</tr>\n",
       "<tr>\n",
       "  <th>Date:</th>           <td>Mon, Jun 13 2022</td>  <th>  Df Residuals:      </th>    <td>9965</td>   \n",
       "</tr>\n",
       "<tr>\n",
       "  <th>Time:</th>               <td>18:04:37</td>      <th>  Df Model:          </th>      <td>0</td>    \n",
       "</tr>\n",
       "</table>\n",
       "<table class=\"simpletable\">\n",
       "<caption>Volatility Model</caption>\n",
       "<tr>\n",
       "      <td></td>        <th>coef</th>     <th>std err</th>      <th>t</th>       <th>P>|t|</th>      <th>95.0% Conf. Int.</th>   \n",
       "</tr>\n",
       "<tr>\n",
       "  <th>omega</th>    <td>9.6364e-03</td> <td>2.912e-03</td> <td>    3.310</td> <td>9.339e-04</td>  <td>[3.930e-03,1.534e-02]</td>\n",
       "</tr>\n",
       "<tr>\n",
       "  <th>alpha[1]</th> <td>    0.0675</td> <td>1.661e-02</td> <td>    4.063</td> <td>4.834e-05</td>   <td>[3.494e-02,  0.100]</td> \n",
       "</tr>\n",
       "<tr>\n",
       "  <th>alpha[2]</th> <td>7.4117e-13</td> <td>1.860e-02</td> <td>3.985e-11</td> <td>    1.000</td> <td>[-3.645e-02,3.645e-02]</td>\n",
       "</tr>\n",
       "<tr>\n",
       "  <th>beta[1]</th>  <td>    0.9181</td> <td>1.402e-02</td> <td>   65.490</td>   <td>0.000</td>      <td>[  0.891,  0.946]</td>  \n",
       "</tr>\n",
       "</table><br/><br/>Covariance estimator: robust"
      ],
      "text/plain": [
       "<class 'statsmodels.iolib.summary.Summary'>\n",
       "\"\"\"\n",
       "                       Zero Mean - GARCH Model Results                        \n",
       "==============================================================================\n",
       "Dep. Variable:                  Price   R-squared:                       0.000\n",
       "Mean Model:                 Zero Mean   Adj. R-squared:                  0.000\n",
       "Vol Model:                      GARCH   Log-Likelihood:               -10867.3\n",
       "Distribution:                  Normal   AIC:                           21742.7\n",
       "Method:            Maximum Likelihood   BIC:                           21771.5\n",
       "                                        No. Observations:                 9965\n",
       "Date:                Mon, Jun 13 2022   Df Residuals:                     9965\n",
       "Time:                        18:04:37   Df Model:                            0\n",
       "                               Volatility Model                              \n",
       "=============================================================================\n",
       "                 coef    std err          t      P>|t|       95.0% Conf. Int.\n",
       "-----------------------------------------------------------------------------\n",
       "omega      9.6364e-03  2.912e-03      3.310  9.339e-04  [3.930e-03,1.534e-02]\n",
       "alpha[1]       0.0675  1.661e-02      4.063  4.834e-05    [3.494e-02,  0.100]\n",
       "alpha[2]   7.4117e-13  1.860e-02  3.985e-11      1.000 [-3.645e-02,3.645e-02]\n",
       "beta[1]        0.9181  1.402e-02     65.490      0.000      [  0.891,  0.946]\n",
       "=============================================================================\n",
       "\n",
       "Covariance estimator: robust\n",
       "\"\"\""
      ]
     },
     "execution_count": 34,
     "metadata": {},
     "output_type": "execute_result"
    }
   ],
   "source": [
    "# Summarize the model results\n",
    "res.summary()"
   ]
  },
  {
   "cell_type": "code",
   "execution_count": 35,
   "id": "90d36c83-5d2b-4f19-b914-4aa4592712e2",
   "metadata": {},
   "outputs": [
    {
     "data": {
      "text/plain": [
       "'2020-06-04'"
      ]
     },
     "execution_count": 35,
     "metadata": {},
     "output_type": "execute_result"
    }
   ],
   "source": [
    "# Find the last day of the dataset\n",
    "last_day = returns.index.max().strftime('%Y-%m-%d')\n",
    "last_day"
   ]
  },
  {
   "cell_type": "code",
   "execution_count": 36,
   "id": "15726af8-0a7a-48a5-afc0-3eb007722bae",
   "metadata": {},
   "outputs": [],
   "source": [
    "# Create a 5 day forecast of volatility\n",
    "forecast_horizon = 5\n",
    "\n",
    "# Start the forecast using the last_day calculated above\n",
    "forecasts = res.forecast(start=last_day, horizon=forecast_horizon)"
   ]
  },
  {
   "cell_type": "code",
   "execution_count": 37,
   "id": "20b17182-29c9-41aa-9a1b-04cd41803acb",
   "metadata": {},
   "outputs": [
    {
     "data": {
      "text/html": [
       "<div>\n",
       "<style scoped>\n",
       "    .dataframe tbody tr th:only-of-type {\n",
       "        vertical-align: middle;\n",
       "    }\n",
       "\n",
       "    .dataframe tbody tr th {\n",
       "        vertical-align: top;\n",
       "    }\n",
       "\n",
       "    .dataframe thead th {\n",
       "        text-align: right;\n",
       "    }\n",
       "</style>\n",
       "<table border=\"1\" class=\"dataframe\">\n",
       "  <thead>\n",
       "    <tr style=\"text-align: right;\">\n",
       "      <th></th>\n",
       "      <th>h.1</th>\n",
       "      <th>h.2</th>\n",
       "      <th>h.3</th>\n",
       "      <th>h.4</th>\n",
       "      <th>h.5</th>\n",
       "    </tr>\n",
       "    <tr>\n",
       "      <th>Date</th>\n",
       "      <th></th>\n",
       "      <th></th>\n",
       "      <th></th>\n",
       "      <th></th>\n",
       "      <th></th>\n",
       "    </tr>\n",
       "  </thead>\n",
       "  <tbody>\n",
       "    <tr>\n",
       "      <th>2020-06-04</th>\n",
       "      <td>12.443383</td>\n",
       "      <td>12.451102</td>\n",
       "      <td>12.458704</td>\n",
       "      <td>12.466192</td>\n",
       "      <td>12.473567</td>\n",
       "    </tr>\n",
       "  </tbody>\n",
       "</table>\n",
       "</div>"
      ],
      "text/plain": [
       "                  h.1        h.2        h.3        h.4        h.5\n",
       "Date                                                             \n",
       "2020-06-04  12.443383  12.451102  12.458704  12.466192  12.473567"
      ]
     },
     "execution_count": 37,
     "metadata": {},
     "output_type": "execute_result"
    }
   ],
   "source": [
    "# Annualize the forecast\n",
    "intermediate = np.sqrt(forecasts.variance.dropna() * 252)\n",
    "intermediate.head()"
   ]
  },
  {
   "cell_type": "code",
   "execution_count": 38,
   "id": "ce632032-5798-4747-805a-2d2172a0ac95",
   "metadata": {},
   "outputs": [
    {
     "data": {
      "text/html": [
       "<div>\n",
       "<style scoped>\n",
       "    .dataframe tbody tr th:only-of-type {\n",
       "        vertical-align: middle;\n",
       "    }\n",
       "\n",
       "    .dataframe tbody tr th {\n",
       "        vertical-align: top;\n",
       "    }\n",
       "\n",
       "    .dataframe thead th {\n",
       "        text-align: right;\n",
       "    }\n",
       "</style>\n",
       "<table border=\"1\" class=\"dataframe\">\n",
       "  <thead>\n",
       "    <tr style=\"text-align: right;\">\n",
       "      <th>Date</th>\n",
       "      <th>2020-06-04</th>\n",
       "    </tr>\n",
       "  </thead>\n",
       "  <tbody>\n",
       "    <tr>\n",
       "      <th>h.1</th>\n",
       "      <td>12.443383</td>\n",
       "    </tr>\n",
       "    <tr>\n",
       "      <th>h.2</th>\n",
       "      <td>12.451102</td>\n",
       "    </tr>\n",
       "    <tr>\n",
       "      <th>h.3</th>\n",
       "      <td>12.458704</td>\n",
       "    </tr>\n",
       "    <tr>\n",
       "      <th>h.4</th>\n",
       "      <td>12.466192</td>\n",
       "    </tr>\n",
       "    <tr>\n",
       "      <th>h.5</th>\n",
       "      <td>12.473567</td>\n",
       "    </tr>\n",
       "  </tbody>\n",
       "</table>\n",
       "</div>"
      ],
      "text/plain": [
       "Date  2020-06-04\n",
       "h.1    12.443383\n",
       "h.2    12.451102\n",
       "h.3    12.458704\n",
       "h.4    12.466192\n",
       "h.5    12.473567"
      ]
     },
     "execution_count": 38,
     "metadata": {},
     "output_type": "execute_result"
    }
   ],
   "source": [
    "# Transpose the forecast so that it is easier to plot\n",
    "final = intermediate.dropna().T\n",
    "final.head()"
   ]
  },
  {
   "cell_type": "code",
   "execution_count": 39,
   "id": "28615bc0-a141-4b1c-9fe8-d3923f103435",
   "metadata": {},
   "outputs": [
    {
     "data": {
      "text/plain": [
       "Text(0.5, 1.0, 'GARCH Volatility Forecast')"
      ]
     },
     "execution_count": 39,
     "metadata": {},
     "output_type": "execute_result"
    },
    {
     "data": {
      "image/png": "[encoded data removed]",
      "text/plain": [
       "<Figure size 432x288 with 1 Axes>"
      ]
     },
     "metadata": {
      "needs_background": "light"
     },
     "output_type": "display_data"
    }
   ],
   "source": [
    "# Plot the final forecast\n",
    "plt.plot(final)\n",
    "plt.title(\"GARCH Volatility Forecast\")"
   ]
  },
  {
   "cell_type": "code",
   "execution_count": 40,
   "id": "4638340c-758d-400b-b940-77eff7217f57",
   "metadata": {},
   "outputs": [],
   "source": [
    "#Q: What does the model forecast will happen to volatility in the near term?\n",
    "\n",
    "#Answer: The graph above suggests volitility is expected to rise, and/or there to be an increased amount of volitility between the loonie and JPY."
   ]
  },
  {
   "cell_type": "code",
   "execution_count": 41,
   "id": "3cf97ca6-d059-4c93-8b46-59d5be90d85f",
   "metadata": {},
   "outputs": [],
   "source": [
    "###Use the results of the completed time series analysis and modelling to answer the following questions:\n",
    "\n",
    "# 1 Based on your time series analysis, would you buy the yen now?\n",
    "\n",
    "# A. if I were to be bullish long on the JPY it may be a good time to buy given the recent strength of the CDN Loonie relative to the JPY.\n",
    "\n",
    "# 2 Is the risk of the yen expected to increase or decrease? \n",
    "\n",
    "# A. The model appears to suggest that the value of the JPY may decrease when compared to the CDN Loonie as at the time of running this model.\n",
    "\n",
    "\n",
    "# 3 Based on the model evaluation, would you feel confident in using these models for trading?\n",
    "\n",
    "# A. I would use this model as a tool, but not the tool.  I would like to run additional analysis to affirm whether or not their additioanl support could be found."
   ]
  },
  {
   "cell_type": "code",
   "execution_count": 42,
   "id": "139250b8-56fb-47f1-858e-0bbe5ee09dda",
   "metadata": {},
   "outputs": [],
   "source": [
    "\n",
    "# ****** Hints and Considerations  #*****#\n",
    "\n",
    "#Out-of-sample data is data that the model hasn't seen before (testing data).\n",
    "#In-sample data is data that the model was trained on (training data).\n",
    "\n",
    "\n",
    "#Submission\n",
    "\n",
    "#Use the starter Jupyter Notebooks for the time series and regression analyses and host the notebooks on \n",
    "#GitHub.\n",
    "\n",
    "#Include a markdown that summarizes your models and findings and include this report in your GitHub repo.\n",
    "\n",
    "#Submit the link to your GitHub project to Bootcampspot.\n",
    "\n",
    "\n",
    "\n"
   ]
  },
  {
   "cell_type": "code",
   "execution_count": null,
   "id": "797d613f-ae1d-44dc-94ce-24bf8310f9bc",
   "metadata": {},
   "outputs": [],
   "source": []
  },
  {
   "cell_type": "code",
   "execution_count": null,
   "id": "66773a48-a7c3-4450-8576-3aa86895eded",
   "metadata": {},
   "outputs": [],
   "source": []
  },
  {
   "cell_type": "code",
   "execution_count": null,
   "id": "fe08d701-66bf-4aa3-8fb8-41e86880ba2d",
   "metadata": {},
   "outputs": [],
   "source": []
  }
 ],
 "metadata": {
  "kernelspec": {
   "display_name": "Python 3 (ipykernel)",
   "language": "python",
   "name": "python3"
  },
  "language_info": {
   "codemirror_mode": {
    "name": "ipython",
    "version": 3
   },
   "file_extension": ".py",
   "mimetype": "text/x-python",
   "name": "python",
   "nbconvert_exporter": "python",
   "pygments_lexer": "ipython3",
   "version": "3.9.12"
  }
 },
 "nbformat": 4,
 "nbformat_minor": 5
}
